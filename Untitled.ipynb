{
 "cells": [
  {
   "cell_type": "code",
   "execution_count": 5,
   "id": "df835aea",
   "metadata": {},
   "outputs": [
    {
     "name": "stdout",
     "output_type": "stream",
     "text": [
      "Requirement already satisfied: rembg in c:\\users\\hp\\anaconda3\\lib\\site-packages (2.0.57)\n",
      "Requirement already satisfied: scipy in c:\\users\\hp\\anaconda3\\lib\\site-packages (from rembg) (1.10.0)\n",
      "Requirement already satisfied: pillow in c:\\users\\hp\\anaconda3\\lib\\site-packages (from rembg) (9.4.0)\n",
      "Requirement already satisfied: pymatting in c:\\users\\hp\\anaconda3\\lib\\site-packages (from rembg) (1.1.12)\n",
      "Requirement already satisfied: numpy in c:\\users\\hp\\anaconda3\\lib\\site-packages (from rembg) (1.23.5)\n",
      "Requirement already satisfied: opencv-python-headless in c:\\users\\hp\\anaconda3\\lib\\site-packages (from rembg) (4.9.0.80)\n",
      "Requirement already satisfied: scikit-image in c:\\users\\hp\\anaconda3\\lib\\site-packages (from rembg) (0.19.3)\n",
      "Requirement already satisfied: jsonschema in c:\\users\\hp\\anaconda3\\lib\\site-packages (from rembg) (4.17.3)\n",
      "Requirement already satisfied: pooch in c:\\users\\hp\\anaconda3\\lib\\site-packages (from rembg) (1.8.1)\n",
      "Requirement already satisfied: tqdm in c:\\users\\hp\\anaconda3\\lib\\site-packages (from rembg) (4.64.1)\n",
      "Requirement already satisfied: onnxruntime in c:\\users\\hp\\anaconda3\\lib\\site-packages (from rembg) (1.18.0)\n",
      "Requirement already satisfied: pyrsistent!=0.17.0,!=0.17.1,!=0.17.2,>=0.14.0 in c:\\users\\hp\\anaconda3\\lib\\site-packages (from jsonschema->rembg) (0.18.0)\n",
      "Requirement already satisfied: attrs>=17.4.0 in c:\\users\\hp\\anaconda3\\lib\\site-packages (from jsonschema->rembg) (22.1.0)\n",
      "Requirement already satisfied: coloredlogs in c:\\users\\hp\\anaconda3\\lib\\site-packages (from onnxruntime->rembg) (15.0.1)\n",
      "Requirement already satisfied: sympy in c:\\users\\hp\\anaconda3\\lib\\site-packages (from onnxruntime->rembg) (1.11.1)\n",
      "Requirement already satisfied: packaging in c:\\users\\hp\\anaconda3\\lib\\site-packages (from onnxruntime->rembg) (24.0)\n",
      "Requirement already satisfied: protobuf in c:\\users\\hp\\anaconda3\\lib\\site-packages (from onnxruntime->rembg) (4.25.3)\n",
      "Requirement already satisfied: flatbuffers in c:\\users\\hp\\anaconda3\\lib\\site-packages (from onnxruntime->rembg) (24.3.7)\n",
      "Requirement already satisfied: platformdirs>=2.5.0 in c:\\users\\hp\\anaconda3\\lib\\site-packages (from pooch->rembg) (4.2.0)\n",
      "Requirement already satisfied: requests>=2.19.0 in c:\\users\\hp\\anaconda3\\lib\\site-packages (from pooch->rembg) (2.28.1)\n",
      "Requirement already satisfied: numba!=0.49.0 in c:\\users\\hp\\anaconda3\\lib\\site-packages (from pymatting->rembg) (0.56.4)\n",
      "Requirement already satisfied: tifffile>=2019.7.26 in c:\\users\\hp\\anaconda3\\lib\\site-packages (from scikit-image->rembg) (2021.7.2)\n",
      "Requirement already satisfied: imageio>=2.4.1 in c:\\users\\hp\\anaconda3\\lib\\site-packages (from scikit-image->rembg) (2.26.0)\n",
      "Requirement already satisfied: networkx>=2.2 in c:\\users\\hp\\anaconda3\\lib\\site-packages (from scikit-image->rembg) (2.8.4)\n",
      "Requirement already satisfied: PyWavelets>=1.1.1 in c:\\users\\hp\\anaconda3\\lib\\site-packages (from scikit-image->rembg) (1.4.1)\n",
      "Requirement already satisfied: colorama in c:\\users\\hp\\anaconda3\\lib\\site-packages (from tqdm->rembg) (0.4.6)\n",
      "Requirement already satisfied: llvmlite<0.40,>=0.39.0dev0 in c:\\users\\hp\\anaconda3\\lib\\site-packages (from numba!=0.49.0->pymatting->rembg) (0.39.1)\n",
      "Requirement already satisfied: setuptools in c:\\users\\hp\\anaconda3\\lib\\site-packages (from numba!=0.49.0->pymatting->rembg) (65.6.3)\n",
      "Requirement already satisfied: charset-normalizer<3,>=2 in c:\\users\\hp\\anaconda3\\lib\\site-packages (from requests>=2.19.0->pooch->rembg) (2.0.4)\n",
      "Requirement already satisfied: idna<4,>=2.5 in c:\\users\\hp\\anaconda3\\lib\\site-packages (from requests>=2.19.0->pooch->rembg) (3.4)\n",
      "Requirement already satisfied: urllib3<1.27,>=1.21.1 in c:\\users\\hp\\anaconda3\\lib\\site-packages (from requests>=2.19.0->pooch->rembg) (1.26.14)\n",
      "Requirement already satisfied: certifi>=2017.4.17 in c:\\users\\hp\\anaconda3\\lib\\site-packages (from requests>=2.19.0->pooch->rembg) (2022.12.7)\n",
      "Requirement already satisfied: humanfriendly>=9.1 in c:\\users\\hp\\anaconda3\\lib\\site-packages (from coloredlogs->onnxruntime->rembg) (10.0)\n",
      "Requirement already satisfied: mpmath>=0.19 in c:\\users\\hp\\anaconda3\\lib\\site-packages (from sympy->onnxruntime->rembg) (1.2.1)\n",
      "Requirement already satisfied: pyreadline3 in c:\\users\\hp\\anaconda3\\lib\\site-packages (from humanfriendly>=9.1->coloredlogs->onnxruntime->rembg) (3.4.1)\n",
      "Note: you may need to restart the kernel to use updated packages.\n"
     ]
    }
   ],
   "source": [
    "pip install rembg"
   ]
  },
  {
   "cell_type": "code",
   "execution_count": 6,
   "id": "c6fda1c2",
   "metadata": {
    "scrolled": true
   },
   "outputs": [
    {
     "name": "stdout",
     "output_type": "stream",
     "text": [
      "Requirement already satisfied: easygui in c:\\users\\hp\\anaconda3\\lib\\site-packages (0.98.3)\n",
      "Note: you may need to restart the kernel to use updated packages.\n"
     ]
    }
   ],
   "source": [
    "pip install easygui"
   ]
  },
  {
   "cell_type": "code",
   "execution_count": 7,
   "id": "cc8e64b6",
   "metadata": {},
   "outputs": [],
   "source": [
    "from rembg import remove\n",
    "import easygui\n",
    "from PIL import Image"
   ]
  },
  {
   "cell_type": "code",
   "execution_count": 8,
   "id": "6485f1d1",
   "metadata": {},
   "outputs": [
    {
     "data": {
      "text/plain": [
       "\"input_path=easygui.fileopenbox(title='Select Image File')\\noutput_path = easygui.filesavebox(title='save file too..')\\ninput=Image.open(input_path)\\noutput=remove(input)\\noutput.save(output_path)\""
      ]
     },
     "execution_count": 8,
     "metadata": {},
     "output_type": "execute_result"
    }
   ],
   "source": [
    "\"\"\"input_path=easygui.fileopenbox(title='Select Image File')\n",
    "output_path = easygui.filesavebox(title='save file too..')\n",
    "input=Image.open(input_path)\n",
    "output=remove(input)\n",
    "output.save(output_path)\"\"\""
   ]
  },
  {
   "cell_type": "code",
   "execution_count": 13,
   "id": "7031388f",
   "metadata": {},
   "outputs": [
    {
     "name": "stderr",
     "output_type": "stream",
     "text": [
      "C:\\Users\\Hp\\AppData\\Local\\Temp\\ipykernel_10692\\1670481120.py:23: DeprecationWarning: ANTIALIAS is deprecated and will be removed in Pillow 10 (2023-07-01). Use LANCZOS or Resampling.LANCZOS instead.\n",
      "  input_image = input_image.resize((width, height), Image.ANTIALIAS)\n"
     ]
    }
   ],
   "source": [
    "import easygui\n",
    "from rembg import remove\n",
    "from PIL import Image\n",
    "\n",
    "# Prompt the user to select an image file\n",
    "input_path = easygui.fileopenbox(title='Select Image File')\n",
    "\n",
    "# Prompt the user to specify the output file path\n",
    "output_path = easygui.filesavebox(title='Save File As', default='output.png')\n",
    "\n",
    "# Ensure the output file path includes a valid extension\n",
    "if not output_path.endswith(('.png', '.jpg', '.jpeg', '.tiff', '.bmp', '.gif')):\n",
    "    output_path += '.png'  # Default to PNG if no extension is provided\n",
    "\n",
    "# Prompt the user to specify the new size with custom bounds\n",
    "width = easygui.integerbox('Enter the new width:', 'Width', lowerbound=1, upperbound=10000)\n",
    "height = easygui.integerbox('Enter the new height:', 'Height', lowerbound=1, upperbound=10000)\n",
    "\n",
    "# Open the input image\n",
    "input_image = Image.open(input_path)\n",
    "\n",
    "# Resize the image\n",
    "input_image = input_image.resize((width, height), Image.ANTIALIAS)\n",
    "\n",
    "# Remove the background\n",
    "output_image = remove(input_image)\n",
    "\n",
    "# Ensure the output image has an alpha channel\n",
    "output_image = output_image.convert(\"RGBA\")\n",
    "\n",
    "# Create a new image with the desired blue background, matching the size of the output image\n",
    "blue_background = Image.new('RGBA', output_image.size, (0, 0, 255, 255))\n",
    "\n",
    "# Composite the images using the alpha channel as a mask\n",
    "combined_image = Image.alpha_composite(blue_background, output_image)\n",
    "\n",
    "# Save the output image\n",
    "combined_image.save(output_path)\n"
   ]
  },
  {
   "cell_type": "markdown",
   "id": "fb328e9b",
   "metadata": {},
   "source": [
    "# you can convert to any background by changing RGBA Color"
   ]
  },
  {
   "cell_type": "code",
   "execution_count": null,
   "id": "ec674ae1",
   "metadata": {},
   "outputs": [],
   "source": []
  }
 ],
 "metadata": {
  "kernelspec": {
   "display_name": "Python 3 (ipykernel)",
   "language": "python",
   "name": "python3"
  },
  "language_info": {
   "codemirror_mode": {
    "name": "ipython",
    "version": 3
   },
   "file_extension": ".py",
   "mimetype": "text/x-python",
   "name": "python",
   "nbconvert_exporter": "python",
   "pygments_lexer": "ipython3",
   "version": "3.10.9"
  }
 },
 "nbformat": 4,
 "nbformat_minor": 5
}
